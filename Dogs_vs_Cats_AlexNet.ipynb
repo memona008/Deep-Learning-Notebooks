{
  "nbformat": 4,
  "nbformat_minor": 0,
  "metadata": {
    "colab": {
      "name": "Transfer Learning + Save & Restore.ipynb",
      "provenance": [],
      "collapsed_sections": [],
      "mount_file_id": "1Npwz4PPPQd81kWCpEa4Jx73HphaCBie1",
      "authorship_tag": "ABX9TyOi1l+Ph4d1aKceNdV95V9H",
      "include_colab_link": true
    },
    "kernelspec": {
      "name": "python3",
      "display_name": "Python 3"
    },
    "accelerator": "GPU"
  },
  "cells": [
    {
      "cell_type": "markdown",
      "metadata": {
        "id": "view-in-github",
        "colab_type": "text"
      },
      "source": [
        "<a href=\"https://colab.research.google.com/github/memona008/Deep-Learning-Notebooks/blob/master/Dogs_vs_Cats_AlexNet.ipynb\" target=\"_parent\"><img src=\"https://colab.research.google.com/assets/colab-badge.svg\" alt=\"Open In Colab\"/></a>"
      ]
    },
    {
      "cell_type": "markdown",
      "metadata": {
        "id": "MXuyMfkU8_9G",
        "colab_type": "text"
      },
      "source": [
        "#Loading Kaggle Dogs vs cats dataset)"
      ]
    },
    {
      "cell_type": "code",
      "metadata": {
        "id": "vJh9pvJD9Gvt",
        "colab_type": "code",
        "colab": {}
      },
      "source": [
        "#upload your kaggle.json file here\n",
        "from google.colab import files\n",
        "files.upload()"
      ],
      "execution_count": null,
      "outputs": []
    },
    {
      "cell_type": "code",
      "metadata": {
        "id": "FKinPl4z9Pqo",
        "colab_type": "code",
        "colab": {
          "base_uri": "https://localhost:8080/",
          "height": 119
        },
        "outputId": "c051392d-0857-4317-f4a5-e82671702273"
      },
      "source": [
        "#downloading the dataset\n",
        "!pip install -q kaggle\n",
        "!mkdir -p ~/.kaggle\n",
        "!cp kaggle.json ~/.kaggle/\n",
        "!ls ~/.kaggle\n",
        "!chmod 600 /root/.kaggle/kaggle.json\n",
        "\n",
        "!kaggle kernels list — user memonasultan — sort-by dateRun\n",
        "\n",
        "!kaggle datasets download -d biaiscience/dogs-vs-cats\n",
        "\n"
      ],
      "execution_count": null,
      "outputs": [
        {
          "output_type": "stream",
          "text": [
            "kaggle.json\n",
            "usage: kaggle [-h] [-v] {competitions,c,datasets,d,kernels,k,config} ...\n",
            "kaggle: error: unrecognized arguments: — user memonasultan — sort-by dateRun\n",
            "Downloading dogs-vs-cats.zip to /content\n",
            " 98% 801M/817M [00:16<00:00, 45.2MB/s]\n",
            "100% 817M/817M [00:16<00:00, 51.6MB/s]\n"
          ],
          "name": "stdout"
        }
      ]
    },
    {
      "cell_type": "code",
      "metadata": {
        "id": "oioqNJWs-f9A",
        "colab_type": "code",
        "colab": {
          "base_uri": "https://localhost:8080/",
          "height": 34
        },
        "outputId": "a9b43c74-3d8d-40bd-ca8e-0ea0fc65cb00"
      },
      "source": [
        "#unzipping the dataset\n",
        "\n",
        "!unzip -q dogs-vs-cats.zip -d .\n",
        "!ls"
      ],
      "execution_count": null,
      "outputs": [
        {
          "output_type": "stream",
          "text": [
            "dogs-vs-cats.zip  drive  kaggle.json  sample_data  test  train\n"
          ],
          "name": "stdout"
        }
      ]
    },
    {
      "cell_type": "markdown",
      "metadata": {
        "id": "uRgPtb6d-pst",
        "colab_type": "text"
      },
      "source": [
        "#AlexNet"
      ]
    },
    {
      "cell_type": "code",
      "metadata": {
        "id": "qDEmUaDRFo7z",
        "colab_type": "code",
        "colab": {
          "base_uri": "https://localhost:8080/",
          "height": 153
        },
        "outputId": "4b3b4398-4ed5-4195-e8a7-a913d2135254"
      },
      "source": [
        "!pip install keras"
      ],
      "execution_count": null,
      "outputs": [
        {
          "output_type": "stream",
          "text": [
            "Requirement already satisfied: keras in /usr/local/lib/python3.6/dist-packages (2.3.1)\n",
            "Requirement already satisfied: keras-preprocessing>=1.0.5 in /usr/local/lib/python3.6/dist-packages (from keras) (1.1.2)\n",
            "Requirement already satisfied: pyyaml in /usr/local/lib/python3.6/dist-packages (from keras) (3.13)\n",
            "Requirement already satisfied: six>=1.9.0 in /usr/local/lib/python3.6/dist-packages (from keras) (1.12.0)\n",
            "Requirement already satisfied: scipy>=0.14 in /usr/local/lib/python3.6/dist-packages (from keras) (1.4.1)\n",
            "Requirement already satisfied: keras-applications>=1.0.6 in /usr/local/lib/python3.6/dist-packages (from keras) (1.0.8)\n",
            "Requirement already satisfied: numpy>=1.9.1 in /usr/local/lib/python3.6/dist-packages (from keras) (1.18.5)\n",
            "Requirement already satisfied: h5py in /usr/local/lib/python3.6/dist-packages (from keras) (2.10.0)\n"
          ],
          "name": "stdout"
        }
      ]
    },
    {
      "cell_type": "code",
      "metadata": {
        "id": "GfEF0LhL-xSv",
        "colab_type": "code",
        "colab": {
          "base_uri": "https://localhost:8080/",
          "height": 34
        },
        "outputId": "febd6de9-ea98-4f50-a145-715c941197d2"
      },
      "source": [
        "\n",
        "import numpy as np\n",
        "import matplotlib.pyplot as plt\n",
        "import os \n",
        "import cv2\n",
        "import random\n",
        "import keras\n",
        "from keras import preprocessing\n",
        "from keras.models import Sequential\n",
        "from keras.layers import Dense, Activation, Dropout, Flatten, Conv2D, MaxPooling2D\n",
        "from keras.layers.normalization import BatchNormalization\n",
        "from tokenize import tokenize\n",
        "from os import makedirs\n",
        "from os import listdir\n",
        "from shutil import copyfile"
      ],
      "execution_count": null,
      "outputs": [
        {
          "output_type": "stream",
          "text": [
            "Using TensorFlow backend.\n"
          ],
          "name": "stderr"
        }
      ]
    },
    {
      "cell_type": "code",
      "metadata": {
        "id": "bgb991lnDkff",
        "colab_type": "code",
        "colab": {}
      },
      "source": [
        "training_set_path = \"./train/train\"\n",
        "testing_set_path = \"./test/test\"\n",
        "CATEGORIES = ['cat','dog']\n",
        "\n",
        "#for recreating the data set for ImageGenerator.flow_from_directory :P \n",
        "dataset_home = 'dataset_dogs_vs_cats/'\n",
        "subdirs = ['train/', 'test/']"
      ],
      "execution_count": null,
      "outputs": []
    },
    {
      "cell_type": "code",
      "metadata": {
        "id": "tIihqrdzbn-6",
        "colab_type": "code",
        "colab": {}
      },
      "source": [
        "for subdir in subdirs:\n",
        "\t# create label subdirectories\n",
        "\tlabeldirs = ['dogs/', 'cats/']\n",
        "\tfor labldir in labeldirs:\n",
        "\t\tnewdir = dataset_home + subdir + labldir\n",
        "\t\tmakedirs(newdir, exist_ok=True)"
      ],
      "execution_count": null,
      "outputs": []
    },
    {
      "cell_type": "code",
      "metadata": {
        "id": "kgrcNRrobxAS",
        "colab_type": "code",
        "colab": {}
      },
      "source": [
        "# making structure \n",
        "src_directory = training_set_path\n",
        "for file in listdir(src_directory):\n",
        "\tsrc = src_directory + '/' + file\n",
        "\tdst_dir = 'train/'\n",
        "\tif file.startswith('cat'):\n",
        "\t\tdst = dataset_home + dst_dir + 'cats/'  + file\n",
        "\t\tcopyfile(src, dst)\n",
        "\telif file.startswith('dog'):\n",
        "\t\tdst = dataset_home + dst_dir + 'dogs/'  + file\n",
        "\t\tcopyfile(src, dst)\n",
        "  \n",
        "\n"
      ],
      "execution_count": null,
      "outputs": []
    },
    {
      "cell_type": "code",
      "metadata": {
        "id": "7e63_I1VWQLB",
        "colab_type": "code",
        "colab": {}
      },
      "source": [
        "TRAIN_DIR = dataset_home + 'train/'\n",
        "RESIZE_SHAPE = (224,224) #227 227 for alexNet"
      ],
      "execution_count": null,
      "outputs": []
    },
    {
      "cell_type": "code",
      "metadata": {
        "id": "qNPUsOfwEcE9",
        "colab_type": "code",
        "colab": {
          "base_uri": "https://localhost:8080/",
          "height": 51
        },
        "outputId": "64f8c42e-2911-439d-808a-757bb4629bd7"
      },
      "source": [
        "train_datagen = preprocessing.image.ImageDataGenerator(validation_split=0.2,rescale=1. / 255)\n",
        "train_generator = train_datagen.flow_from_directory(\n",
        "    directory=TRAIN_DIR,\n",
        "    target_size=RESIZE_SHAPE,\n",
        "    color_mode=\"rgb\",\n",
        "    batch_size=32,\n",
        "    class_mode=\"categorical\", \n",
        "    subset = 'training',\n",
        "    seed=42\n",
        ")\n",
        "\n",
        "valid_generator = train_datagen.flow_from_directory(\n",
        "    directory=TRAIN_DIR,\n",
        "    target_size=RESIZE_SHAPE,\n",
        "    color_mode=\"rgb\",\n",
        "    batch_size=32,\n",
        "    class_mode=\"categorical\", \n",
        "    subset = 'validation',\n",
        "    seed=42\n",
        ")"
      ],
      "execution_count": null,
      "outputs": [
        {
          "output_type": "stream",
          "text": [
            "Found 20000 images belonging to 2 classes.\n",
            "Found 5000 images belonging to 2 classes.\n"
          ],
          "name": "stdout"
        }
      ]
    },
    {
      "cell_type": "code",
      "metadata": {
        "id": "jq5MNGc6WKZk",
        "colab_type": "code",
        "colab": {}
      },
      "source": [
        "def get_AlexNet_model():\n",
        "  model = Sequential()\n",
        "  # 1st layer\n",
        "  conv_layer_1 = Conv2D(filters=96, input_shape=(227,227,3), kernel_size=(11,11), strides=(4,4), padding='valid', activation='relu')\n",
        "  model.add(conv_layer_1)\n",
        "  model.add(BatchNormalization(axis = -1))\n",
        "  max_pool_1 = MaxPooling2D(pool_size=(3,3), strides=(2,2), padding='valid')\n",
        "  model.add(max_pool_1)\n",
        "\n",
        "\n",
        "  # 2nd layer\n",
        "  conv_layer_2 = Conv2D(filters=256, kernel_size=(5,5), strides=(1,1), padding='valid', activation='relu')\n",
        "  model.add(conv_layer_2)\n",
        "  model.add(BatchNormalization(axis = -1))\n",
        "  max_pool_2 = MaxPooling2D(pool_size=(3,3), strides=(2,2), padding='valid')\n",
        "  model.add(max_pool_2)\n",
        "\n",
        "   # 3rd layer\n",
        "  conv_layer_3 = Conv2D(filters=384, kernel_size=(3,3), strides=(1,1), padding='valid', activation='relu')\n",
        "  model.add(conv_layer_3)\n",
        "  model.add(BatchNormalization(axis = -1))\n",
        "\n",
        "  # 4th layer\n",
        "  conv_layer_4 = Conv2D(filters=384, kernel_size=(3,3), strides=(1,1), padding='valid', activation='relu')\n",
        "  model.add(conv_layer_4)\n",
        "  model.add(BatchNormalization(axis = -1))\n",
        "\n",
        "  # 5th layer\n",
        "  conv_layer_5 = Conv2D(filters=256, kernel_size=(3,3), strides=(1,1), padding='valid', activation='relu')\n",
        "  model.add(conv_layer_5)\n",
        "  model.add(BatchNormalization(axis = -1))\n",
        "  max_pool_5 = MaxPooling2D(pool_size=(3,3), strides=(2,2), padding='valid')\n",
        "  model.add(max_pool_5)\n",
        "\n",
        "  model.add(Flatten())\n",
        "\n",
        "  #Fully Connected Layers\n",
        "  model.add(Dense(4096, input_shape=(227,227,3), activation='relu'))\n",
        "  model.add(BatchNormalization())\n",
        "  model.add(Dropout(0.4))\n",
        "  model.add(Dense(4096, activation='relu'))\n",
        "  model.add(BatchNormalization())\n",
        "  model.add(Dropout(0.4))\n",
        "  model.add(Dense(1000, activation='relu'))\n",
        "  model.add(BatchNormalization())\n",
        "  model.add(Dropout(0.4))\n",
        "  model.add(Dense(len(CATEGORIES), activation='softmax'))\n",
        "\n",
        "  return model\n"
      ],
      "execution_count": null,
      "outputs": []
    },
    {
      "cell_type": "code",
      "metadata": {
        "id": "xWCPyIfpielb",
        "colab_type": "code",
        "colab": {}
      },
      "source": [
        "model = get_AlexNet_model()\n",
        "model.compile(loss=keras.losses.categorical_crossentropy, optimizer='adam', metrics=[\"accuracy\"])"
      ],
      "execution_count": null,
      "outputs": []
    },
    {
      "cell_type": "code",
      "metadata": {
        "id": "ftq9T0jki_re",
        "colab_type": "code",
        "colab": {
          "base_uri": "https://localhost:8080/",
          "height": 969
        },
        "outputId": "328b28f7-950a-401e-bf05-510b598f6e7d"
      },
      "source": [
        "model.summary()"
      ],
      "execution_count": null,
      "outputs": [
        {
          "output_type": "stream",
          "text": [
            "Model: \"sequential_1\"\n",
            "_________________________________________________________________\n",
            "Layer (type)                 Output Shape              Param #   \n",
            "=================================================================\n",
            "conv2d_1 (Conv2D)            (None, 55, 55, 96)        34944     \n",
            "_________________________________________________________________\n",
            "batch_normalization_1 (Batch (None, 55, 55, 96)        384       \n",
            "_________________________________________________________________\n",
            "max_pooling2d_1 (MaxPooling2 (None, 27, 27, 96)        0         \n",
            "_________________________________________________________________\n",
            "conv2d_2 (Conv2D)            (None, 23, 23, 256)       614656    \n",
            "_________________________________________________________________\n",
            "batch_normalization_2 (Batch (None, 23, 23, 256)       1024      \n",
            "_________________________________________________________________\n",
            "max_pooling2d_2 (MaxPooling2 (None, 11, 11, 256)       0         \n",
            "_________________________________________________________________\n",
            "conv2d_3 (Conv2D)            (None, 9, 9, 384)         885120    \n",
            "_________________________________________________________________\n",
            "batch_normalization_3 (Batch (None, 9, 9, 384)         1536      \n",
            "_________________________________________________________________\n",
            "conv2d_4 (Conv2D)            (None, 7, 7, 384)         1327488   \n",
            "_________________________________________________________________\n",
            "batch_normalization_4 (Batch (None, 7, 7, 384)         1536      \n",
            "_________________________________________________________________\n",
            "conv2d_5 (Conv2D)            (None, 5, 5, 256)         884992    \n",
            "_________________________________________________________________\n",
            "batch_normalization_5 (Batch (None, 5, 5, 256)         1024      \n",
            "_________________________________________________________________\n",
            "max_pooling2d_3 (MaxPooling2 (None, 2, 2, 256)         0         \n",
            "_________________________________________________________________\n",
            "flatten_1 (Flatten)          (None, 1024)              0         \n",
            "_________________________________________________________________\n",
            "dense_1 (Dense)              (None, 4096)              4198400   \n",
            "_________________________________________________________________\n",
            "batch_normalization_6 (Batch (None, 4096)              16384     \n",
            "_________________________________________________________________\n",
            "dropout_1 (Dropout)          (None, 4096)              0         \n",
            "_________________________________________________________________\n",
            "dense_2 (Dense)              (None, 4096)              16781312  \n",
            "_________________________________________________________________\n",
            "batch_normalization_7 (Batch (None, 4096)              16384     \n",
            "_________________________________________________________________\n",
            "dropout_2 (Dropout)          (None, 4096)              0         \n",
            "_________________________________________________________________\n",
            "dense_3 (Dense)              (None, 1000)              4097000   \n",
            "_________________________________________________________________\n",
            "batch_normalization_8 (Batch (None, 1000)              4000      \n",
            "_________________________________________________________________\n",
            "dropout_3 (Dropout)          (None, 1000)              0         \n",
            "_________________________________________________________________\n",
            "dense_4 (Dense)              (None, 2)                 2002      \n",
            "=================================================================\n",
            "Total params: 28,868,186\n",
            "Trainable params: 28,847,050\n",
            "Non-trainable params: 21,136\n",
            "_________________________________________________________________\n"
          ],
          "name": "stdout"
        }
      ]
    },
    {
      "cell_type": "code",
      "metadata": {
        "id": "ah8mi-16jcfM",
        "colab_type": "code",
        "colab": {
          "base_uri": "https://localhost:8080/",
          "height": 1000
        },
        "outputId": "47689552-fafa-44f3-c3ba-0904f2240f62"
      },
      "source": [
        "cp_callback = keras.callbacks.ModelCheckpoint(\n",
        "    filepath='./model/weights.{epoch:02d}-{val_accuracy:.2f}.hdf5', \n",
        "    verbose=1, \n",
        "    monitor='val_accuracy',\n",
        "    mode = 'max',\n",
        "    save_weights_only=False, save_best_only=True )\n",
        "\n",
        "model.fit_generator(generator=train_generator,steps_per_epoch=20000/32, callbacks=[cp_callback],\n",
        "\tvalidation_data=valid_generator, validation_steps=5000/32 , epochs=100, verbose=1)"
      ],
      "execution_count": null,
      "outputs": [
        {
          "output_type": "stream",
          "text": [
            "Epoch 1/100\n",
            "625/625 [==============================] - 100s 160ms/step - loss: 0.1808 - accuracy: 0.9276 - val_loss: 0.1396 - val_accuracy: 0.8760\n",
            "\n",
            "Epoch 00001: val_accuracy improved from -inf to 0.87600, saving model to ./model/weights.01-0.88.hdf5\n",
            "Epoch 2/100\n",
            "625/625 [==============================] - 98s 157ms/step - loss: 0.1604 - accuracy: 0.9366 - val_loss: 0.2025 - val_accuracy: 0.8490\n",
            "\n",
            "Epoch 00002: val_accuracy did not improve from 0.87600\n",
            "Epoch 3/100\n",
            "625/625 [==============================] - 98s 157ms/step - loss: 0.1408 - accuracy: 0.9452 - val_loss: 0.2123 - val_accuracy: 0.8276\n",
            "\n",
            "Epoch 00003: val_accuracy did not improve from 0.87600\n",
            "Epoch 4/100\n",
            "625/625 [==============================] - 99s 158ms/step - loss: 0.1295 - accuracy: 0.9501 - val_loss: 1.4696 - val_accuracy: 0.8336\n",
            "\n",
            "Epoch 00004: val_accuracy did not improve from 0.87600\n",
            "Epoch 5/100\n",
            "625/625 [==============================] - 98s 157ms/step - loss: 0.1110 - accuracy: 0.9597 - val_loss: 0.9672 - val_accuracy: 0.8718\n",
            "\n",
            "Epoch 00005: val_accuracy did not improve from 0.87600\n",
            "Epoch 6/100\n",
            "625/625 [==============================] - 99s 158ms/step - loss: 0.0934 - accuracy: 0.9645 - val_loss: 0.0089 - val_accuracy: 0.8838\n",
            "\n",
            "Epoch 00006: val_accuracy improved from 0.87600 to 0.88380, saving model to ./model/weights.06-0.88.hdf5\n",
            "Epoch 7/100\n",
            "625/625 [==============================] - 99s 158ms/step - loss: 0.0876 - accuracy: 0.9675 - val_loss: 0.3409 - val_accuracy: 0.7216\n",
            "\n",
            "Epoch 00007: val_accuracy did not improve from 0.88380\n",
            "Epoch 8/100\n",
            "625/625 [==============================] - 98s 157ms/step - loss: 0.0850 - accuracy: 0.9679 - val_loss: 0.1032 - val_accuracy: 0.8474\n",
            "\n",
            "Epoch 00008: val_accuracy did not improve from 0.88380\n",
            "Epoch 9/100\n",
            "625/625 [==============================] - 97s 156ms/step - loss: 0.0798 - accuracy: 0.9704 - val_loss: 0.1769 - val_accuracy: 0.8508\n",
            "\n",
            "Epoch 00009: val_accuracy did not improve from 0.88380\n",
            "Epoch 10/100\n",
            "625/625 [==============================] - 99s 159ms/step - loss: 0.0522 - accuracy: 0.9812 - val_loss: 1.4058 - val_accuracy: 0.8816\n",
            "\n",
            "Epoch 00010: val_accuracy did not improve from 0.88380\n",
            "Epoch 11/100\n",
            "625/625 [==============================] - 100s 160ms/step - loss: 0.0618 - accuracy: 0.9783 - val_loss: 0.9598 - val_accuracy: 0.8412\n",
            "\n",
            "Epoch 00011: val_accuracy did not improve from 0.88380\n",
            "Epoch 12/100\n",
            "625/625 [==============================] - 99s 158ms/step - loss: 0.0453 - accuracy: 0.9838 - val_loss: 0.4486 - val_accuracy: 0.8934\n",
            "\n",
            "Epoch 00012: val_accuracy improved from 0.88380 to 0.89340, saving model to ./model/weights.12-0.89.hdf5\n",
            "Epoch 13/100\n",
            "625/625 [==============================] - 99s 159ms/step - loss: 0.0610 - accuracy: 0.9794 - val_loss: 1.1027 - val_accuracy: 0.8198\n",
            "\n",
            "Epoch 00013: val_accuracy did not improve from 0.89340\n",
            "Epoch 14/100\n",
            "625/625 [==============================] - 101s 161ms/step - loss: 0.0570 - accuracy: 0.9794 - val_loss: 0.1600 - val_accuracy: 0.8558\n",
            "\n",
            "Epoch 00014: val_accuracy did not improve from 0.89340\n",
            "Epoch 15/100\n",
            "625/625 [==============================] - 100s 160ms/step - loss: 0.0386 - accuracy: 0.9880 - val_loss: 0.1826 - val_accuracy: 0.8792\n",
            "\n",
            "Epoch 00015: val_accuracy did not improve from 0.89340\n",
            "Epoch 16/100\n",
            "625/625 [==============================] - 99s 159ms/step - loss: 0.0357 - accuracy: 0.9875 - val_loss: 0.0476 - val_accuracy: 0.8708\n",
            "\n",
            "Epoch 00016: val_accuracy did not improve from 0.89340\n",
            "Epoch 17/100\n",
            "625/625 [==============================] - 100s 160ms/step - loss: 0.0393 - accuracy: 0.9865 - val_loss: 0.1430 - val_accuracy: 0.8864\n",
            "\n",
            "Epoch 00017: val_accuracy did not improve from 0.89340\n",
            "Epoch 18/100\n",
            "625/625 [==============================] - 99s 158ms/step - loss: 0.0339 - accuracy: 0.9884 - val_loss: 0.0204 - val_accuracy: 0.8878\n",
            "\n",
            "Epoch 00018: val_accuracy did not improve from 0.89340\n",
            "Epoch 19/100\n",
            "625/625 [==============================] - 99s 158ms/step - loss: 0.0489 - accuracy: 0.9842 - val_loss: 1.0920 - val_accuracy: 0.8690\n",
            "\n",
            "Epoch 00019: val_accuracy did not improve from 0.89340\n",
            "Epoch 20/100\n",
            "625/625 [==============================] - 99s 158ms/step - loss: 0.0493 - accuracy: 0.9841 - val_loss: 0.0074 - val_accuracy: 0.8692\n",
            "\n",
            "Epoch 00020: val_accuracy did not improve from 0.89340\n",
            "Epoch 21/100\n",
            "625/625 [==============================] - 99s 158ms/step - loss: 0.0236 - accuracy: 0.9919 - val_loss: 0.9280 - val_accuracy: 0.8626\n",
            "\n",
            "Epoch 00021: val_accuracy did not improve from 0.89340\n",
            "Epoch 22/100\n",
            "625/625 [==============================] - 98s 157ms/step - loss: 0.0335 - accuracy: 0.9883 - val_loss: 1.8573 - val_accuracy: 0.8924\n",
            "\n",
            "Epoch 00022: val_accuracy did not improve from 0.89340\n",
            "Epoch 23/100\n",
            "625/625 [==============================] - 99s 158ms/step - loss: 0.0194 - accuracy: 0.9931 - val_loss: 0.0048 - val_accuracy: 0.8870\n",
            "\n",
            "Epoch 00023: val_accuracy did not improve from 0.89340\n",
            "Epoch 24/100\n",
            "625/625 [==============================] - 99s 159ms/step - loss: 0.0235 - accuracy: 0.9913 - val_loss: 0.0779 - val_accuracy: 0.8798\n",
            "\n",
            "Epoch 00024: val_accuracy did not improve from 0.89340\n",
            "Epoch 25/100\n",
            "625/625 [==============================] - 99s 158ms/step - loss: 0.0259 - accuracy: 0.9919 - val_loss: 0.6492 - val_accuracy: 0.8782\n",
            "\n",
            "Epoch 00025: val_accuracy did not improve from 0.89340\n",
            "Epoch 26/100\n",
            "625/625 [==============================] - 98s 158ms/step - loss: 0.0249 - accuracy: 0.9916 - val_loss: 0.2294 - val_accuracy: 0.8932\n",
            "\n",
            "Epoch 00026: val_accuracy did not improve from 0.89340\n",
            "Epoch 27/100\n",
            "625/625 [==============================] - 98s 156ms/step - loss: 0.0244 - accuracy: 0.9912 - val_loss: 1.3235 - val_accuracy: 0.8376\n",
            "\n",
            "Epoch 00027: val_accuracy did not improve from 0.89340\n",
            "Epoch 28/100\n",
            "625/625 [==============================] - 97s 155ms/step - loss: 0.0261 - accuracy: 0.9915 - val_loss: 0.3621 - val_accuracy: 0.8474\n",
            "\n",
            "Epoch 00028: val_accuracy did not improve from 0.89340\n",
            "Epoch 29/100\n",
            "625/625 [==============================] - 97s 155ms/step - loss: 0.0212 - accuracy: 0.9929 - val_loss: 0.7072 - val_accuracy: 0.8910\n",
            "\n",
            "Epoch 00029: val_accuracy did not improve from 0.89340\n",
            "Epoch 30/100\n",
            "625/625 [==============================] - 96s 154ms/step - loss: 0.0298 - accuracy: 0.9902 - val_loss: 0.1735 - val_accuracy: 0.8732\n",
            "\n",
            "Epoch 00030: val_accuracy did not improve from 0.89340\n",
            "Epoch 31/100\n",
            "625/625 [==============================] - 97s 155ms/step - loss: 0.0223 - accuracy: 0.9922 - val_loss: 2.2081 - val_accuracy: 0.8518\n",
            "\n",
            "Epoch 00031: val_accuracy did not improve from 0.89340\n",
            "Epoch 32/100\n",
            "625/625 [==============================] - 97s 155ms/step - loss: 0.0196 - accuracy: 0.9933 - val_loss: 5.3398e-05 - val_accuracy: 0.8916\n",
            "\n",
            "Epoch 00032: val_accuracy did not improve from 0.89340\n",
            "Epoch 33/100\n",
            "625/625 [==============================] - 96s 154ms/step - loss: 0.0192 - accuracy: 0.9934 - val_loss: 0.2101 - val_accuracy: 0.8832\n",
            "\n",
            "Epoch 00033: val_accuracy did not improve from 0.89340\n",
            "Epoch 34/100\n",
            "625/625 [==============================] - 97s 155ms/step - loss: 0.0186 - accuracy: 0.9937 - val_loss: 0.5848 - val_accuracy: 0.8750\n",
            "\n",
            "Epoch 00034: val_accuracy did not improve from 0.89340\n",
            "Epoch 35/100\n",
            "625/625 [==============================] - 96s 154ms/step - loss: 0.0178 - accuracy: 0.9940 - val_loss: 3.3169e-05 - val_accuracy: 0.8538\n",
            "\n",
            "Epoch 00035: val_accuracy did not improve from 0.89340\n",
            "Epoch 36/100\n",
            "625/625 [==============================] - 97s 156ms/step - loss: 0.0253 - accuracy: 0.9916 - val_loss: 0.0873 - val_accuracy: 0.8678\n",
            "\n",
            "Epoch 00036: val_accuracy did not improve from 0.89340\n",
            "Epoch 37/100\n",
            "625/625 [==============================] - 98s 157ms/step - loss: 0.0228 - accuracy: 0.9930 - val_loss: 1.3633 - val_accuracy: 0.8908\n",
            "\n",
            "Epoch 00037: val_accuracy did not improve from 0.89340\n",
            "Epoch 38/100\n",
            "625/625 [==============================] - 98s 156ms/step - loss: 0.0087 - accuracy: 0.9967 - val_loss: 1.6964 - val_accuracy: 0.8830\n",
            "\n",
            "Epoch 00038: val_accuracy did not improve from 0.89340\n",
            "Epoch 39/100\n",
            "625/625 [==============================] - 97s 156ms/step - loss: 0.0213 - accuracy: 0.9933 - val_loss: 0.8310 - val_accuracy: 0.8706\n",
            "\n",
            "Epoch 00039: val_accuracy did not improve from 0.89340\n",
            "Epoch 40/100\n",
            "625/625 [==============================] - 97s 156ms/step - loss: 0.0165 - accuracy: 0.9947 - val_loss: 0.0391 - val_accuracy: 0.8974\n",
            "\n",
            "Epoch 00040: val_accuracy improved from 0.89340 to 0.89740, saving model to ./model/weights.40-0.90.hdf5\n",
            "Epoch 41/100\n",
            "625/625 [==============================] - 99s 158ms/step - loss: 0.0222 - accuracy: 0.9925 - val_loss: 0.9104 - val_accuracy: 0.8782\n",
            "\n",
            "Epoch 00041: val_accuracy did not improve from 0.89740\n",
            "Epoch 42/100\n",
            "625/625 [==============================] - 98s 157ms/step - loss: 0.0497 - accuracy: 0.9836 - val_loss: 0.2285 - val_accuracy: 0.8808\n",
            "\n",
            "Epoch 00042: val_accuracy did not improve from 0.89740\n",
            "Epoch 43/100\n",
            "625/625 [==============================] - 98s 157ms/step - loss: 0.0199 - accuracy: 0.9938 - val_loss: 0.1618 - val_accuracy: 0.8952\n",
            "\n",
            "Epoch 00043: val_accuracy did not improve from 0.89740\n",
            "Epoch 44/100\n",
            "625/625 [==============================] - 98s 157ms/step - loss: 0.0116 - accuracy: 0.9962 - val_loss: 0.0634 - val_accuracy: 0.8908\n",
            "\n",
            "Epoch 00044: val_accuracy did not improve from 0.89740\n",
            "Epoch 45/100\n",
            "625/625 [==============================] - 98s 157ms/step - loss: 0.0205 - accuracy: 0.9942 - val_loss: 0.2844 - val_accuracy: 0.8930\n",
            "\n",
            "Epoch 00045: val_accuracy did not improve from 0.89740\n",
            "Epoch 46/100\n",
            "625/625 [==============================] - 98s 157ms/step - loss: 0.0237 - accuracy: 0.9929 - val_loss: 0.0038 - val_accuracy: 0.8844\n",
            "\n",
            "Epoch 00046: val_accuracy did not improve from 0.89740\n",
            "Epoch 47/100\n",
            "625/625 [==============================] - 98s 157ms/step - loss: 0.0195 - accuracy: 0.9945 - val_loss: 1.7740 - val_accuracy: 0.7190\n",
            "\n",
            "Epoch 00047: val_accuracy did not improve from 0.89740\n",
            "Epoch 48/100\n",
            "625/625 [==============================] - 98s 157ms/step - loss: 0.0123 - accuracy: 0.9962 - val_loss: 0.3539 - val_accuracy: 0.8992\n",
            "\n",
            "Epoch 00048: val_accuracy improved from 0.89740 to 0.89920, saving model to ./model/weights.48-0.90.hdf5\n",
            "Epoch 49/100\n",
            "625/625 [==============================] - 98s 156ms/step - loss: 0.0088 - accuracy: 0.9972 - val_loss: 0.4093 - val_accuracy: 0.8864\n",
            "\n",
            "Epoch 00049: val_accuracy did not improve from 0.89920\n",
            "Epoch 50/100\n",
            "625/625 [==============================] - 97s 155ms/step - loss: 0.0168 - accuracy: 0.9949 - val_loss: 0.1145 - val_accuracy: 0.8772\n",
            "\n",
            "Epoch 00050: val_accuracy did not improve from 0.89920\n",
            "Epoch 51/100\n",
            "625/625 [==============================] - 98s 156ms/step - loss: 0.0162 - accuracy: 0.9948 - val_loss: 0.2345 - val_accuracy: 0.8742\n",
            "\n",
            "Epoch 00051: val_accuracy did not improve from 0.89920\n",
            "Epoch 52/100\n",
            "625/625 [==============================] - 97s 156ms/step - loss: 0.0319 - accuracy: 0.9895 - val_loss: 0.0062 - val_accuracy: 0.8848\n",
            "\n",
            "Epoch 00052: val_accuracy did not improve from 0.89920\n",
            "Epoch 53/100\n",
            "625/625 [==============================] - 98s 157ms/step - loss: 0.0084 - accuracy: 0.9973 - val_loss: 0.0080 - val_accuracy: 0.8708\n",
            "\n",
            "Epoch 00053: val_accuracy did not improve from 0.89920\n",
            "Epoch 54/100\n",
            "625/625 [==============================] - 99s 158ms/step - loss: 0.0085 - accuracy: 0.9975 - val_loss: 0.0034 - val_accuracy: 0.9002\n",
            "\n",
            "Epoch 00054: val_accuracy improved from 0.89920 to 0.90020, saving model to ./model/weights.54-0.90.hdf5\n",
            "Epoch 55/100\n",
            "625/625 [==============================] - 98s 157ms/step - loss: 0.0085 - accuracy: 0.9969 - val_loss: 0.4142 - val_accuracy: 0.8902\n",
            "\n",
            "Epoch 00055: val_accuracy did not improve from 0.90020\n",
            "Epoch 56/100\n",
            "625/625 [==============================] - 98s 157ms/step - loss: 0.0155 - accuracy: 0.9951 - val_loss: 0.4427 - val_accuracy: 0.9014\n",
            "\n",
            "Epoch 00056: val_accuracy improved from 0.90020 to 0.90140, saving model to ./model/weights.56-0.90.hdf5\n",
            "Epoch 57/100\n",
            "625/625 [==============================] - 99s 158ms/step - loss: 0.0069 - accuracy: 0.9975 - val_loss: 0.1210 - val_accuracy: 0.8778\n",
            "\n",
            "Epoch 00057: val_accuracy did not improve from 0.90140\n",
            "Epoch 58/100\n",
            "625/625 [==============================] - 98s 156ms/step - loss: 0.0294 - accuracy: 0.9903 - val_loss: 0.2588 - val_accuracy: 0.8856\n",
            "\n",
            "Epoch 00058: val_accuracy did not improve from 0.90140\n",
            "Epoch 59/100\n",
            "625/625 [==============================] - 98s 156ms/step - loss: 0.0164 - accuracy: 0.9949 - val_loss: 0.0379 - val_accuracy: 0.8952\n",
            "\n",
            "Epoch 00059: val_accuracy did not improve from 0.90140\n",
            "Epoch 60/100\n",
            "625/625 [==============================] - 101s 162ms/step - loss: 0.0048 - accuracy: 0.9984 - val_loss: 0.7398 - val_accuracy: 0.8970\n",
            "\n",
            "Epoch 00060: val_accuracy did not improve from 0.90140\n",
            "Epoch 61/100\n",
            "625/625 [==============================] - 98s 157ms/step - loss: 0.0182 - accuracy: 0.9942 - val_loss: 0.8327 - val_accuracy: 0.8906\n",
            "\n",
            "Epoch 00061: val_accuracy did not improve from 0.90140\n",
            "Epoch 62/100\n",
            "625/625 [==============================] - 98s 156ms/step - loss: 0.0125 - accuracy: 0.9961 - val_loss: 1.0483 - val_accuracy: 0.8082\n",
            "\n",
            "Epoch 00062: val_accuracy did not improve from 0.90140\n",
            "Epoch 63/100\n",
            "625/625 [==============================] - 98s 156ms/step - loss: 0.0076 - accuracy: 0.9973 - val_loss: 2.7849e-05 - val_accuracy: 0.8916\n",
            "\n",
            "Epoch 00063: val_accuracy did not improve from 0.90140\n",
            "Epoch 64/100\n",
            "625/625 [==============================] - 98s 157ms/step - loss: 0.0112 - accuracy: 0.9969 - val_loss: 2.4153e-04 - val_accuracy: 0.8634\n",
            "\n",
            "Epoch 00064: val_accuracy did not improve from 0.90140\n",
            "Epoch 65/100\n",
            "625/625 [==============================] - 98s 157ms/step - loss: 0.0183 - accuracy: 0.9944 - val_loss: 0.6739 - val_accuracy: 0.8794\n",
            "\n",
            "Epoch 00065: val_accuracy did not improve from 0.90140\n",
            "Epoch 66/100\n",
            "625/625 [==============================] - 98s 156ms/step - loss: 0.0111 - accuracy: 0.9972 - val_loss: 0.0353 - val_accuracy: 0.8780\n",
            "\n",
            "Epoch 00066: val_accuracy did not improve from 0.90140\n",
            "Epoch 67/100\n",
            "625/625 [==============================] - 99s 158ms/step - loss: 0.0120 - accuracy: 0.9956 - val_loss: 6.6703e-04 - val_accuracy: 0.8988\n",
            "\n",
            "Epoch 00067: val_accuracy did not improve from 0.90140\n",
            "Epoch 68/100\n",
            "625/625 [==============================] - 98s 157ms/step - loss: 0.0047 - accuracy: 0.9982 - val_loss: 0.6709 - val_accuracy: 0.8890\n",
            "\n",
            "Epoch 00068: val_accuracy did not improve from 0.90140\n",
            "Epoch 69/100\n",
            "625/625 [==============================] - 98s 156ms/step - loss: 0.0102 - accuracy: 0.9969 - val_loss: 0.1783 - val_accuracy: 0.8430\n",
            "\n",
            "Epoch 00069: val_accuracy did not improve from 0.90140\n",
            "Epoch 70/100\n",
            "625/625 [==============================] - 98s 156ms/step - loss: 0.0176 - accuracy: 0.9944 - val_loss: 0.0869 - val_accuracy: 0.8962\n",
            "\n",
            "Epoch 00070: val_accuracy did not improve from 0.90140\n",
            "Epoch 71/100\n",
            "625/625 [==============================] - 98s 156ms/step - loss: 0.0058 - accuracy: 0.9984 - val_loss: 0.5333 - val_accuracy: 0.8992\n",
            "\n",
            "Epoch 00071: val_accuracy did not improve from 0.90140\n",
            "Epoch 72/100\n",
            "625/625 [==============================] - 98s 156ms/step - loss: 0.0097 - accuracy: 0.9966 - val_loss: 0.0022 - val_accuracy: 0.8906\n",
            "\n",
            "Epoch 00072: val_accuracy did not improve from 0.90140\n",
            "Epoch 73/100\n",
            "625/625 [==============================] - 98s 156ms/step - loss: 0.0278 - accuracy: 0.9913 - val_loss: 0.3782 - val_accuracy: 0.8974\n",
            "\n",
            "Epoch 00073: val_accuracy did not improve from 0.90140\n",
            "Epoch 74/100\n",
            "625/625 [==============================] - 98s 157ms/step - loss: 0.0129 - accuracy: 0.9966 - val_loss: 0.0695 - val_accuracy: 0.8980\n",
            "\n",
            "Epoch 00074: val_accuracy did not improve from 0.90140\n",
            "Epoch 75/100\n",
            "625/625 [==============================] - 98s 157ms/step - loss: 0.0072 - accuracy: 0.9977 - val_loss: 0.5367 - val_accuracy: 0.8932\n",
            "\n",
            "Epoch 00075: val_accuracy did not improve from 0.90140\n",
            "Epoch 76/100\n",
            "625/625 [==============================] - 98s 157ms/step - loss: 0.0075 - accuracy: 0.9975 - val_loss: 0.0061 - val_accuracy: 0.8830\n",
            "\n",
            "Epoch 00076: val_accuracy did not improve from 0.90140\n",
            "Epoch 77/100\n",
            "625/625 [==============================] - 98s 157ms/step - loss: 0.0093 - accuracy: 0.9973 - val_loss: 0.0011 - val_accuracy: 0.8958\n",
            "\n",
            "Epoch 00077: val_accuracy did not improve from 0.90140\n",
            "Epoch 78/100\n",
            "625/625 [==============================] - 98s 157ms/step - loss: 0.0072 - accuracy: 0.9980 - val_loss: 0.2665 - val_accuracy: 0.8928\n",
            "\n",
            "Epoch 00078: val_accuracy did not improve from 0.90140\n",
            "Epoch 79/100\n",
            "625/625 [==============================] - 99s 158ms/step - loss: 0.0198 - accuracy: 0.9937 - val_loss: 1.2799 - val_accuracy: 0.8818\n",
            "\n",
            "Epoch 00079: val_accuracy did not improve from 0.90140\n",
            "Epoch 80/100\n",
            "625/625 [==============================] - 98s 158ms/step - loss: 0.0146 - accuracy: 0.9961 - val_loss: 0.7144 - val_accuracy: 0.8868\n",
            "\n",
            "Epoch 00080: val_accuracy did not improve from 0.90140\n",
            "Epoch 81/100\n",
            "625/625 [==============================] - 98s 158ms/step - loss: 0.0079 - accuracy: 0.9973 - val_loss: 0.8137 - val_accuracy: 0.8872\n",
            "\n",
            "Epoch 00081: val_accuracy did not improve from 0.90140\n",
            "Epoch 82/100\n",
            "625/625 [==============================] - 98s 156ms/step - loss: 0.0113 - accuracy: 0.9967 - val_loss: 0.1871 - val_accuracy: 0.8930\n",
            "\n",
            "Epoch 00082: val_accuracy did not improve from 0.90140\n",
            "Epoch 83/100\n",
            "625/625 [==============================] - 98s 157ms/step - loss: 0.0046 - accuracy: 0.9987 - val_loss: 0.0049 - val_accuracy: 0.8834\n",
            "\n",
            "Epoch 00083: val_accuracy did not improve from 0.90140\n",
            "Epoch 84/100\n",
            "625/625 [==============================] - 99s 158ms/step - loss: 0.0038 - accuracy: 0.9991 - val_loss: 1.2719e-04 - val_accuracy: 0.8994\n",
            "\n",
            "Epoch 00084: val_accuracy did not improve from 0.90140\n",
            "Epoch 85/100\n",
            "625/625 [==============================] - 99s 158ms/step - loss: 0.0087 - accuracy: 0.9969 - val_loss: 0.0643 - val_accuracy: 0.8920\n",
            "\n",
            "Epoch 00085: val_accuracy did not improve from 0.90140\n",
            "Epoch 86/100\n",
            "625/625 [==============================] - 98s 157ms/step - loss: 0.0176 - accuracy: 0.9941 - val_loss: 0.0455 - val_accuracy: 0.8964\n",
            "\n",
            "Epoch 00086: val_accuracy did not improve from 0.90140\n",
            "Epoch 87/100\n",
            "625/625 [==============================] - 98s 156ms/step - loss: 0.0045 - accuracy: 0.9985 - val_loss: 0.5353 - val_accuracy: 0.8898\n",
            "\n",
            "Epoch 00087: val_accuracy did not improve from 0.90140\n",
            "Epoch 88/100\n",
            "625/625 [==============================] - 98s 157ms/step - loss: 0.0143 - accuracy: 0.9955 - val_loss: 7.8032e-04 - val_accuracy: 0.8932\n",
            "\n",
            "Epoch 00088: val_accuracy did not improve from 0.90140\n",
            "Epoch 89/100\n",
            "625/625 [==============================] - 97s 156ms/step - loss: 0.0106 - accuracy: 0.9971 - val_loss: 1.3619e-05 - val_accuracy: 0.8944\n",
            "\n",
            "Epoch 00089: val_accuracy did not improve from 0.90140\n",
            "Epoch 90/100\n",
            "625/625 [==============================] - 97s 155ms/step - loss: 0.0183 - accuracy: 0.9953 - val_loss: 0.0683 - val_accuracy: 0.8922\n",
            "\n",
            "Epoch 00090: val_accuracy did not improve from 0.90140\n",
            "Epoch 91/100\n",
            "625/625 [==============================] - 98s 156ms/step - loss: 0.0071 - accuracy: 0.9977 - val_loss: 1.1045 - val_accuracy: 0.9016\n",
            "\n",
            "Epoch 00091: val_accuracy improved from 0.90140 to 0.90160, saving model to ./model/weights.91-0.90.hdf5\n",
            "Epoch 92/100\n",
            "625/625 [==============================] - 98s 157ms/step - loss: 0.0081 - accuracy: 0.9974 - val_loss: 0.0017 - val_accuracy: 0.8294\n",
            "\n",
            "Epoch 00092: val_accuracy did not improve from 0.90160\n",
            "Epoch 93/100\n",
            "625/625 [==============================] - 98s 158ms/step - loss: 0.0107 - accuracy: 0.9965 - val_loss: 0.0174 - val_accuracy: 0.8930\n",
            "\n",
            "Epoch 00093: val_accuracy did not improve from 0.90160\n",
            "Epoch 94/100\n",
            "367/625 [================>.............] - ETA: 33s - loss: 0.0206 - accuracy: 0.9951Buffered data was truncated after reaching the output size limit."
          ],
          "name": "stdout"
        }
      ]
    },
    {
      "cell_type": "markdown",
      "metadata": {
        "id": "iz4Rz33VQ0hb",
        "colab_type": "text"
      },
      "source": [
        "#Prediction with restored AlexNet best model saved while training (90% accuracy)"
      ]
    },
    {
      "cell_type": "code",
      "metadata": {
        "id": "m9ORDWTYRH04",
        "colab_type": "code",
        "colab": {}
      },
      "source": [
        "restored_model = get_AlexNet_model()\n",
        "restored_model.load_weights(\"/content/drive/My Drive/Models/weights.56-0.90.hdf5\")\n",
        "restored_model.compile(loss=keras.losses.categorical_crossentropy, optimizer='adam', metrics=[\"accuracy\"])"
      ],
      "execution_count": null,
      "outputs": []
    },
    {
      "cell_type": "code",
      "metadata": {
        "id": "_2NhaYorWx9a",
        "colab_type": "code",
        "colab": {}
      },
      "source": [
        "restored_model.summary()"
      ],
      "execution_count": null,
      "outputs": []
    },
    {
      "cell_type": "code",
      "metadata": {
        "id": "hBdMFwk0XzWq",
        "colab_type": "code",
        "colab": {}
      },
      "source": [
        "def load_image(filename):\n",
        "\t# load the image\n",
        "\timg = keras.preprocessing.image.load_img(filename, target_size=IMAGE_SHAPE, color_mode='rgb')\n",
        "\t# convert to array\n",
        "\timg = keras.preprocessing.image.img_to_array(img)\n",
        "\treturn img"
      ],
      "execution_count": null,
      "outputs": []
    },
    {
      "cell_type": "code",
      "metadata": {
        "id": "DhIf0EKJbOF8",
        "colab_type": "code",
        "colab": {}
      },
      "source": [
        "def preprocess_image(img):\n",
        "  img = img.reshape(1,224, 224, 3)\n",
        "  return img"
      ],
      "execution_count": null,
      "outputs": []
    },
    {
      "cell_type": "code",
      "metadata": {
        "id": "0X2V4CggZjTj",
        "colab_type": "code",
        "colab": {}
      },
      "source": [
        "def predict_samples(model,from_n=0):\n",
        "  plt.figure(figsize=(25,25))\n",
        "  for i in range(1,25):\n",
        "      filename = f'{testing_set_path}/{i+from_n}.jpg'\n",
        "      img = load_image(filename)\n",
        "      plt.subplot(5,5,i+1)\n",
        "      plt.xticks([])\n",
        "      plt.yticks([])\n",
        "      plt.grid(False)\n",
        "      plt.imshow(keras.preprocessing.image.load_img(filename, color_mode='rgb'))\n",
        "      predict = model.predict(preprocess_image(img))\n",
        "      prediction = np.argmax(predict, axis=1)\n",
        "      plt.rcParams.update({'font.size': 20}) \n",
        "      plt.xlabel(CATEGORIES[prediction[0]])\n",
        "  plt.show()"
      ],
      "execution_count": null,
      "outputs": []
    }
  ]
}